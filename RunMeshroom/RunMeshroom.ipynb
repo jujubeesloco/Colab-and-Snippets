{
  "nbformat": 4,
  "nbformat_minor": 0,
  "metadata": {
    "colab": {
      "name": "RunMeshroom.ipynb",
      "provenance": [],
      "collapsed_sections": []
    },
    "kernelspec": {
      "name": "python3",
      "display_name": "Python 3"
    },
    "accelerator": "GPU"
  },
  "cells": [
    {
      "cell_type": "markdown",
      "metadata": {
        "id": "tJUlZN4TRnCH"
      },
      "source": [
        "This notebook is based off of [donmahallem's](https://github.com/donmahallem) MeshroomColab [notebook](https://gist.github.com/donmahallem/22134574382b7bd8a67c1550734fcfc4).\n",
        "\n",
        "If you need help, check out [my YouTube](https://bit.ly/ab3dchannel) and [my GitHub](https://github.com/ab3-dev)."
      ]
    },
    {
      "cell_type": "markdown",
      "metadata": {
        "id": "RD3eZSm6d6NZ"
      },
      "source": [
        "#Setup\n",
        "Add paths for input and output. Your images should be in their own folder. Or just check use sample data, and the input and ouput will be covered for you. For ease of use, I recommend mounting your Google Drive (see section below), then setting your input and output locations to somewhere inside your drive.\n"
      ]
    },
    {
      "cell_type": "code",
      "metadata": {
        "id": "2wodsIcpYbDR",
        "colab": {
          "base_uri": "https://localhost:8080/"
        },
        "outputId": "2c531253-e94a-49a7-fde3-207a37cbe326"
      },
      "source": [
        "from google.colab import drive\n",
        "drive.mount('/content/drive')"
      ],
      "execution_count": null,
      "outputs": [
        {
          "output_type": "stream",
          "text": [
            "Mounted at /content/drive\n"
          ],
          "name": "stdout"
        }
      ]
    },
    {
      "cell_type": "code",
      "metadata": {
        "id": "EdybqxNeo1KU",
        "colab": {
          "base_uri": "https://localhost:8080/"
        },
        "outputId": "bd2be446-d5a1-439d-bb6e-e1e522605f10"
      },
      "source": [
        "!unzip /content/MobileCar.zip -d /content/images"
      ],
      "execution_count": null,
      "outputs": [
        {
          "output_type": "stream",
          "text": [
            "Archive:  /content/dad.zip\n",
            "   creating: /content/images/dad/\n",
            "  inflating: /content/images/dad/20210812_132645.jpg  \n",
            "  inflating: /content/images/dad/20210812_132648.jpg  \n",
            "  inflating: /content/images/dad/20210812_132650.jpg  \n",
            "  inflating: /content/images/dad/20210812_132652.jpg  \n",
            "  inflating: /content/images/dad/20210812_132654.jpg  \n",
            "  inflating: /content/images/dad/20210812_132657.jpg  \n",
            "  inflating: /content/images/dad/20210812_132659.jpg  \n",
            "  inflating: /content/images/dad/20210812_132702.jpg  \n",
            "  inflating: /content/images/dad/20210812_132704.jpg  \n",
            "  inflating: /content/images/dad/20210812_132705.jpg  \n",
            "  inflating: /content/images/dad/20210812_132708.jpg  \n",
            "  inflating: /content/images/dad/20210812_132709.jpg  \n",
            "  inflating: /content/images/dad/20210812_132711.jpg  \n",
            "  inflating: /content/images/dad/20210812_132712.jpg  \n",
            "  inflating: /content/images/dad/20210812_132714.jpg  \n",
            "  inflating: /content/images/dad/20210812_132716.jpg  \n",
            "  inflating: /content/images/dad/20210812_132717.jpg  \n",
            "  inflating: /content/images/dad/20210812_132719.jpg  \n",
            "  inflating: /content/images/dad/20210812_132721.jpg  \n",
            "  inflating: /content/images/dad/20210812_132723.jpg  \n",
            "  inflating: /content/images/dad/20210812_132725.jpg  \n",
            "  inflating: /content/images/dad/20210812_132726.jpg  \n",
            "  inflating: /content/images/dad/20210812_132736.jpg  \n",
            "  inflating: /content/images/dad/20210812_132738.jpg  \n",
            "  inflating: /content/images/dad/20210812_132740.jpg  \n",
            "  inflating: /content/images/dad/20210812_132742.jpg  \n",
            "  inflating: /content/images/dad/20210812_132743.jpg  \n",
            "  inflating: /content/images/dad/20210812_132745.jpg  \n",
            "  inflating: /content/images/dad/20210812_132746.jpg  \n",
            "  inflating: /content/images/dad/20210812_132748.jpg  \n",
            "  inflating: /content/images/dad/20210812_132749.jpg  \n",
            "  inflating: /content/images/dad/20210812_132751.jpg  \n",
            "  inflating: /content/images/dad/20210812_132753.jpg  \n",
            "  inflating: /content/images/dad/20210812_132754.jpg  \n",
            "  inflating: /content/images/dad/20210812_132756.jpg  \n",
            "  inflating: /content/images/dad/20210812_132757.jpg  \n",
            "  inflating: /content/images/dad/20210812_132759.jpg  \n",
            "  inflating: /content/images/dad/20210812_132801.jpg  \n",
            "  inflating: /content/images/dad/20210812_132803.jpg  \n",
            "  inflating: /content/images/dad/20210812_132804.jpg  \n",
            "  inflating: /content/images/dad/20210812_132806.jpg  \n",
            "  inflating: /content/images/dad/20210812_132807.jpg  \n",
            "  inflating: /content/images/dad/20210812_132810.jpg  \n",
            "  inflating: /content/images/dad/20210812_132811.jpg  \n",
            "  inflating: /content/images/dad/20210812_132813.jpg  \n",
            "  inflating: /content/images/dad/20210812_132815.jpg  \n",
            "  inflating: /content/images/dad/20210812_132817.jpg  \n",
            "  inflating: /content/images/dad/20210812_132820.jpg  \n",
            "  inflating: /content/images/dad/20210812_132822.jpg  \n",
            "  inflating: /content/images/dad/20210812_132824.jpg  \n",
            "  inflating: /content/images/dad/20210812_132826.jpg  \n",
            "  inflating: /content/images/dad/20210812_132828.jpg  \n",
            "  inflating: /content/images/dad/20210812_132830.jpg  \n",
            "  inflating: /content/images/dad/20210812_132832.jpg  \n",
            "  inflating: /content/images/dad/20210812_132835.jpg  \n",
            "  inflating: /content/images/dad/20210812_132837.jpg  \n",
            "  inflating: /content/images/dad/20210812_132839.jpg  \n",
            "  inflating: /content/images/dad/20210812_132842.jpg  \n",
            "  inflating: /content/images/dad/20210812_132844.jpg  \n",
            "  inflating: /content/images/dad/20210812_132846.jpg  \n",
            "  inflating: /content/images/dad/20210812_132848.jpg  \n",
            "  inflating: /content/images/dad/20210812_132850.jpg  \n",
            "  inflating: /content/images/dad/20210812_132852.jpg  \n",
            "  inflating: /content/images/dad/20210812_132854.jpg  \n",
            "  inflating: /content/images/dad/20210812_132856.jpg  \n",
            "  inflating: /content/images/dad/20210812_132859.jpg  \n"
          ],
          "name": "stdout"
        }
      ]
    },
    {
      "cell_type": "markdown",
      "metadata": {
        "id": "RsxzdzwtPVCA"
      },
      "source": [
        "Download Meshroom and sample data(if needed)."
      ]
    },
    {
      "cell_type": "code",
      "metadata": {
        "id": "cQgXdvk-qUvi"
      },
      "source": [
        "\n",
        "!wget -N https://github.com/alicevision/meshroom/releases/download/v2021.1.0/Meshroom-2021.1.0-linux-cuda10.tar.gz\n",
        "!mkdir meshroom\n",
        "!tar xzf /content/Meshroom-2021.1.0-linux-cuda10.tar.gz -C ./meshroom"
      ],
      "execution_count": null,
      "outputs": []
    },
    {
      "cell_type": "markdown",
      "metadata": {
        "id": "xA_XKpKqdoqb"
      },
      "source": [
        "#Meshing\n",
        "Use the form in setup to specify an input and output path, or check sample data to try it out."
      ]
    },
    {
      "cell_type": "code",
      "metadata": {
        "id": "AZWyk461sxGI",
        "colab": {
          "base_uri": "https://localhost:8080/"
        },
        "outputId": "ed593ce1-a835-4f1b-ac7d-97ad7ebf828b"
      },
      "source": [
        "\n",
        "!/content/meshroom/Meshroom-2021.1.0-av2.4.0-centos7-cuda10.2/meshroom_batch -i '/content/images' --output '/content/drive/MyDrive/MeshOuput'\n"
      ],
      "execution_count": null,
      "outputs": [
        {
          "output_type": "stream",
          "text": [
            "Program called with the following parameters:\n",
            " * allowSingleView = 1\n",
            " * allowedCameraModels = \"pinhole,radial1,radial3,brown,fisheye4,fisheye1\"\n",
            " * defaultCameraModel = \"\" (default)\n",
            " * defaultFieldOfView = 45\n",
            " * defaultFocalLengthPix = -1 (default)\n",
            " * defaultIntrinsic = \"\" (default)\n",
            " * groupCameraFallback =  Unknown Type \"20EGroupCameraFallback\"\n",
            " * imageFolder = \"\" (default)\n",
            " * input = \"/tmp/tmp_y1ktnxh/CameraInit/f9436e97e444fa71a05aa5cf7639b206df8ba282//viewpoints.sfm\"\n",
            " * output = \"/tmp/tmp_y1ktnxh/CameraInit/f9436e97e444fa71a05aa5cf7639b206df8ba282/cameraInit.sfm\"\n",
            " * sensorDatabase = \"/content/meshroom/Meshroom-2021.1.0-av2.4.0-centos7-cuda10.2/aliceVision/share/aliceVision/cameraSensors.db\"\n",
            " * useInternalWhiteBalance = 1\n",
            " * verboseLevel = \"info\"\n",
            " * viewIdMethod =  Unknown Type \"N11aliceVision9sfmDataIO13EViewIdMethodE\"\n",
            " * viewIdRegex = \".*?(\\d+)\" (default)\n",
            "\n",
            "[18:52:40.094601][warning] Some image(s) have no serial number to identify the camera/lens device.\n",
            "This makes it impossible to correctly group the images by device if you have used multiple identical (same model) camera devices.\n",
            "The reconstruction will assume that only one device has been used, so if 2 images share the same focal length approximation they will share the same internal camera parameters.\n",
            "66 image(s) are concerned.\n",
            "[18:52:40.108296][info] CameraInit report:\n",
            "\t- # views listed: 66\n",
            "\t   - # views with an initialized intrinsic listed: 66\n",
            "\t   - # views without metadata (with a default intrinsic): 0\n",
            "\t- # intrinsics listed: 1\n",
            " - commandLine: aliceVision_cameraInit  --sensorDatabase \"/content/meshroom/Meshroom-2021.1.0-av2.4.0-centos7-cuda10.2/aliceVision/share/aliceVision/cameraSensors.db\" --defaultFieldOfView 45.0 --groupCameraFallback folder --allowedCameraModels pinhole,radial1,radial3,brown,fisheye4,fisheye1 --useInternalWhiteBalance True --viewIdMethod metadata --verboseLevel info --output \"/tmp/MeshroomCache/CameraInit/2fa7572f527e4969beed6f8d93d369276a23ec94/cameraInit.sfm\" --allowSingleView 1 --input \"/tmp/MeshroomCache/CameraInit/2fa7572f527e4969beed6f8d93d369276a23ec94//viewpoints.sfm\"\n",
            " - logFile: /tmp/MeshroomCache/CameraInit/2fa7572f527e4969beed6f8d93d369276a23ec94/log\n",
            " - commandLine: aliceVision_featureExtraction  --input \"/tmp/MeshroomCache/CameraInit/2fa7572f527e4969beed6f8d93d369276a23ec94/cameraInit.sfm\" --describerTypes sift --describerPreset normal --describerQuality normal --contrastFiltering GridSort --gridFiltering True --forceCpuExtraction True --maxThreads 0 --verboseLevel info --output \"/tmp/MeshroomCache/FeatureExtraction/d89814b42a8fd3c4a6db298391923f24d3361692\" --rangeStart 0 --rangeSize 40\n",
            " - logFile: /tmp/MeshroomCache/FeatureExtraction/d89814b42a8fd3c4a6db298391923f24d3361692/0.log\n",
            " - commandLine: aliceVision_featureExtraction  --input \"/tmp/MeshroomCache/CameraInit/2fa7572f527e4969beed6f8d93d369276a23ec94/cameraInit.sfm\" --describerTypes sift --describerPreset normal --describerQuality normal --contrastFiltering GridSort --gridFiltering True --forceCpuExtraction True --maxThreads 0 --verboseLevel info --output \"/tmp/MeshroomCache/FeatureExtraction/d89814b42a8fd3c4a6db298391923f24d3361692\" --rangeStart 40 --rangeSize 40\n",
            " - logFile: /tmp/MeshroomCache/FeatureExtraction/d89814b42a8fd3c4a6db298391923f24d3361692/1.log\n"
          ],
          "name": "stdout"
        }
      ]
    },
    {
      "cell_type": "code",
      "metadata": {
        "id": "UvPFz3lZhuaT"
      },
      "source": [
        "\n",
        "!/content/meshroom/Meshroom-2021.1.0-av2.4.0-centos7-cuda10.2/meshroom_compute '/content/images/frog/frogcloud.mg'\n"
      ],
      "execution_count": null,
      "outputs": []
    },
    {
      "cell_type": "markdown",
      "metadata": {
        "id": "7wwo3nPyd0-w"
      },
      "source": [
        "#Download\n",
        "Now simply download the output folder from Google Drive!"
      ]
    }
  ]
}