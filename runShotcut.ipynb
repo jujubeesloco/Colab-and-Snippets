{
  "nbformat": 4,
  "nbformat_minor": 0,
  "metadata": {
    "colab": {
      "name": "runShotcut (1).ipynb",
      "provenance": []
    },
    "kernelspec": {
      "name": "python3",
      "display_name": "Python 3"
    }
  },
  "cells": [
    {
      "cell_type": "markdown",
      "metadata": {
        "id": "Kl-ax4HvKlTn"
      },
      "source": [
        "Edit the paths of XML file."
      ]
    },
    {
      "cell_type": "code",
      "metadata": {
        "id": "ppmSgwSbKVW2"
      },
      "source": [
        "!wget https://github.com/mltframework/shotcut/releases/download/v20.11.28/shotcut-linux-x86_64-201128.txz"
      ],
      "execution_count": null,
      "outputs": []
    },
    {
      "cell_type": "code",
      "metadata": {
        "id": "osS0jngjJ8jU"
      },
      "source": [
        "!tar Jxvf /content/shotcut-linux-x86_64-201128.txz"
      ],
      "execution_count": null,
      "outputs": []
    },
    {
      "cell_type": "code",
      "metadata": {
        "id": "2JLe-6-fJ9Je"
      },
      "source": [
        "\r\n",
        "!apt-get install python-opengl -y\r\n",
        "\r\n",
        "!apt install xvfb -y\r\n",
        "\r\n",
        "!pip install pyvirtualdisplay\r\n",
        "\r\n",
        "!pip install piglet\r\n",
        "\r\n",
        "from pyvirtualdisplay import Display\r\n",
        "Display().start()"
      ],
      "execution_count": null,
      "outputs": []
    },
    {
      "cell_type": "code",
      "metadata": {
        "id": "hSF6149KJ9VK"
      },
      "source": [
        "/content/shotcut/shotcut.app/melt /path/to/xml"
      ],
      "execution_count": null,
      "outputs": []
    }
  ]
}